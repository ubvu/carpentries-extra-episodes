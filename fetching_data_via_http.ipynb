{
 "cells": [
  {
   "cell_type": "markdown",
   "id": "a41e9712-bcc9-41b8-a1ed-cfb69e47bc28",
   "metadata": {},
   "source": [
    "# Fetching data via http\n",
    "\n",
    "First, we will be fetching one of our datasets from a public repository via its URL, using pandas.\n",
    "\n",
    "Then, we will be using the *requests* library to interact with the [github REST API](https://docs.github.com/en/rest?apiVersion=2022-11-28)"
   ]
  },
  {
   "cell_type": "markdown",
   "id": "46093fbd-b0a6-493a-a272-89e74f0fbdc0",
   "metadata": {},
   "source": [
    "## Fetching dataset from URL using pandas"
   ]
  },
  {
   "cell_type": "code",
   "execution_count": 1,
   "id": "f498b87d-6e9a-4457-a116-0dba155f67ec",
   "metadata": {},
   "outputs": [],
   "source": [
    "import pandas as pd"
   ]
  },
  {
   "cell_type": "code",
   "execution_count": 2,
   "id": "59639e09-7543-4915-be4b-8b5c7ba88039",
   "metadata": {},
   "outputs": [],
   "source": [
    "# e.g. from the livecode repo, e.g. gapminder\n",
    "url = 'https://raw.githubusercontent.com/ubvu/2024-02-07-python/main/data/gapminder_gdp_europe.csv'\n",
    "data = pd.read_csv(url)"
   ]
  },
  {
   "cell_type": "code",
   "execution_count": 3,
   "id": "3a43c7e3-0ff5-485d-a29e-865ea515056f",
   "metadata": {},
   "outputs": [
    {
     "data": {
      "text/html": [
       "<div>\n",
       "<style scoped>\n",
       "    .dataframe tbody tr th:only-of-type {\n",
       "        vertical-align: middle;\n",
       "    }\n",
       "\n",
       "    .dataframe tbody tr th {\n",
       "        vertical-align: top;\n",
       "    }\n",
       "\n",
       "    .dataframe thead th {\n",
       "        text-align: right;\n",
       "    }\n",
       "</style>\n",
       "<table border=\"1\" class=\"dataframe\">\n",
       "  <thead>\n",
       "    <tr style=\"text-align: right;\">\n",
       "      <th></th>\n",
       "      <th>country</th>\n",
       "      <th>gdpPercap_1952</th>\n",
       "      <th>gdpPercap_1957</th>\n",
       "      <th>gdpPercap_1962</th>\n",
       "      <th>gdpPercap_1967</th>\n",
       "      <th>gdpPercap_1972</th>\n",
       "      <th>gdpPercap_1977</th>\n",
       "      <th>gdpPercap_1982</th>\n",
       "      <th>gdpPercap_1987</th>\n",
       "      <th>gdpPercap_1992</th>\n",
       "      <th>gdpPercap_1997</th>\n",
       "      <th>gdpPercap_2002</th>\n",
       "      <th>gdpPercap_2007</th>\n",
       "    </tr>\n",
       "  </thead>\n",
       "  <tbody>\n",
       "    <tr>\n",
       "      <th>0</th>\n",
       "      <td>Albania</td>\n",
       "      <td>1601.056136</td>\n",
       "      <td>1942.284244</td>\n",
       "      <td>2312.888958</td>\n",
       "      <td>2760.196931</td>\n",
       "      <td>3313.422188</td>\n",
       "      <td>3533.003910</td>\n",
       "      <td>3630.880722</td>\n",
       "      <td>3738.932735</td>\n",
       "      <td>2497.437901</td>\n",
       "      <td>3193.054604</td>\n",
       "      <td>4604.211737</td>\n",
       "      <td>5937.029526</td>\n",
       "    </tr>\n",
       "    <tr>\n",
       "      <th>1</th>\n",
       "      <td>Austria</td>\n",
       "      <td>6137.076492</td>\n",
       "      <td>8842.598030</td>\n",
       "      <td>10750.721110</td>\n",
       "      <td>12834.602400</td>\n",
       "      <td>16661.625600</td>\n",
       "      <td>19749.422300</td>\n",
       "      <td>21597.083620</td>\n",
       "      <td>23687.826070</td>\n",
       "      <td>27042.018680</td>\n",
       "      <td>29095.920660</td>\n",
       "      <td>32417.607690</td>\n",
       "      <td>36126.492700</td>\n",
       "    </tr>\n",
       "    <tr>\n",
       "      <th>2</th>\n",
       "      <td>Belgium</td>\n",
       "      <td>8343.105127</td>\n",
       "      <td>9714.960623</td>\n",
       "      <td>10991.206760</td>\n",
       "      <td>13149.041190</td>\n",
       "      <td>16672.143560</td>\n",
       "      <td>19117.974480</td>\n",
       "      <td>20979.845890</td>\n",
       "      <td>22525.563080</td>\n",
       "      <td>25575.570690</td>\n",
       "      <td>27561.196630</td>\n",
       "      <td>30485.883750</td>\n",
       "      <td>33692.605080</td>\n",
       "    </tr>\n",
       "    <tr>\n",
       "      <th>3</th>\n",
       "      <td>Bosnia and Herzegovina</td>\n",
       "      <td>973.533195</td>\n",
       "      <td>1353.989176</td>\n",
       "      <td>1709.683679</td>\n",
       "      <td>2172.352423</td>\n",
       "      <td>2860.169750</td>\n",
       "      <td>3528.481305</td>\n",
       "      <td>4126.613157</td>\n",
       "      <td>4314.114757</td>\n",
       "      <td>2546.781445</td>\n",
       "      <td>4766.355904</td>\n",
       "      <td>6018.975239</td>\n",
       "      <td>7446.298803</td>\n",
       "    </tr>\n",
       "    <tr>\n",
       "      <th>4</th>\n",
       "      <td>Bulgaria</td>\n",
       "      <td>2444.286648</td>\n",
       "      <td>3008.670727</td>\n",
       "      <td>4254.337839</td>\n",
       "      <td>5577.002800</td>\n",
       "      <td>6597.494398</td>\n",
       "      <td>7612.240438</td>\n",
       "      <td>8224.191647</td>\n",
       "      <td>8239.854824</td>\n",
       "      <td>6302.623438</td>\n",
       "      <td>5970.388760</td>\n",
       "      <td>7696.777725</td>\n",
       "      <td>10680.792820</td>\n",
       "    </tr>\n",
       "  </tbody>\n",
       "</table>\n",
       "</div>"
      ],
      "text/plain": [
       "                  country  gdpPercap_1952  gdpPercap_1957  gdpPercap_1962  \\\n",
       "0                 Albania     1601.056136     1942.284244     2312.888958   \n",
       "1                 Austria     6137.076492     8842.598030    10750.721110   \n",
       "2                 Belgium     8343.105127     9714.960623    10991.206760   \n",
       "3  Bosnia and Herzegovina      973.533195     1353.989176     1709.683679   \n",
       "4                Bulgaria     2444.286648     3008.670727     4254.337839   \n",
       "\n",
       "   gdpPercap_1967  gdpPercap_1972  gdpPercap_1977  gdpPercap_1982  \\\n",
       "0     2760.196931     3313.422188     3533.003910     3630.880722   \n",
       "1    12834.602400    16661.625600    19749.422300    21597.083620   \n",
       "2    13149.041190    16672.143560    19117.974480    20979.845890   \n",
       "3     2172.352423     2860.169750     3528.481305     4126.613157   \n",
       "4     5577.002800     6597.494398     7612.240438     8224.191647   \n",
       "\n",
       "   gdpPercap_1987  gdpPercap_1992  gdpPercap_1997  gdpPercap_2002  \\\n",
       "0     3738.932735     2497.437901     3193.054604     4604.211737   \n",
       "1    23687.826070    27042.018680    29095.920660    32417.607690   \n",
       "2    22525.563080    25575.570690    27561.196630    30485.883750   \n",
       "3     4314.114757     2546.781445     4766.355904     6018.975239   \n",
       "4     8239.854824     6302.623438     5970.388760     7696.777725   \n",
       "\n",
       "   gdpPercap_2007  \n",
       "0     5937.029526  \n",
       "1    36126.492700  \n",
       "2    33692.605080  \n",
       "3     7446.298803  \n",
       "4    10680.792820  "
      ]
     },
     "execution_count": 3,
     "metadata": {},
     "output_type": "execute_result"
    }
   ],
   "source": [
    "data.head()"
   ]
  },
  {
   "cell_type": "markdown",
   "id": "0ddef769-dead-4fc5-804e-494df059daf5",
   "metadata": {},
   "source": [
    "This approach is limited: what if we need to explicitly communicate with the server?\n",
    "\n",
    "The standard way of doing this in Python is with the [requests library](https://requests.readthedocs.io/en/latest/).\n",
    "\n",
    "First, some [basic information on HTTP](https://www.w3schools.com/tags/ref_httpmethods.asp):\n",
    "- The Hypertext Transfer Protocol (HTTP) is designed to enable communications between clients and servers.\n",
    "- Example: A client (browser) sends an HTTP request to the server; then the server returns a response to the client.\n",
    "- The response contains status information about the request and may also contain the requested content."
   ]
  },
  {
   "cell_type": "code",
   "execution_count": 4,
   "id": "210257f1-4f94-464c-a901-ef38d5dc1cc0",
   "metadata": {},
   "outputs": [],
   "source": [
    "import requests"
   ]
  },
  {
   "cell_type": "markdown",
   "id": "3d8fb4eb-9bde-4b44-8dc9-8bfcabd43d45",
   "metadata": {},
   "source": [
    "## GET: retrieving data from the github API"
   ]
  },
  {
   "cell_type": "code",
   "execution_count": 5,
   "id": "15ff293e-fe86-42f1-844a-ea6d9f82a633",
   "metadata": {},
   "outputs": [
    {
     "data": {
      "text/plain": [
       "<Response [200]>"
      ]
     },
     "execution_count": 5,
     "metadata": {},
     "output_type": "execute_result"
    }
   ],
   "source": [
    "requests.get('https://api.github.com')"
   ]
  },
  {
   "cell_type": "markdown",
   "id": "1a1928a2-69f8-4807-93e1-f2c568c87a59",
   "metadata": {},
   "source": [
    "Store the response and investigate it in more detail"
   ]
  },
  {
   "cell_type": "code",
   "execution_count": 6,
   "id": "1ee653ea-2ed2-4d4e-bfd7-b733f984469f",
   "metadata": {},
   "outputs": [],
   "source": [
    "# store the response\n",
    "response = requests.get('https://api.github.com')"
   ]
  },
  {
   "cell_type": "code",
   "execution_count": 7,
   "id": "2efb1f5a-eac3-4eb5-ae77-c04d9241579b",
   "metadata": {},
   "outputs": [
    {
     "data": {
      "text/plain": [
       "200"
      ]
     },
     "execution_count": 7,
     "metadata": {},
     "output_type": "execute_result"
    }
   ],
   "source": [
    "response.status_code"
   ]
  },
  {
   "cell_type": "code",
   "execution_count": 8,
   "id": "23ff761f-53f9-4d0d-83b6-ac8865c51701",
   "metadata": {},
   "outputs": [],
   "source": [
    "# response content (payload) in bytes\n",
    "#response.content"
   ]
  },
  {
   "cell_type": "code",
   "execution_count": 9,
   "id": "24bbb432-1cac-4690-9958-7f583e7629c3",
   "metadata": {},
   "outputs": [],
   "source": [
    "# as string (utf-8 inferred from header)\n",
    "#response.text"
   ]
  },
  {
   "cell_type": "code",
   "execution_count": 10,
   "id": "1a273e24-3616-480a-821d-04bec2e8b195",
   "metadata": {},
   "outputs": [
    {
     "data": {
      "text/plain": [
       "{'current_user_url': 'https://api.github.com/user',\n",
       " 'current_user_authorizations_html_url': 'https://github.com/settings/connections/applications{/client_id}',\n",
       " 'authorizations_url': 'https://api.github.com/authorizations',\n",
       " 'code_search_url': 'https://api.github.com/search/code?q={query}{&page,per_page,sort,order}',\n",
       " 'commit_search_url': 'https://api.github.com/search/commits?q={query}{&page,per_page,sort,order}',\n",
       " 'emails_url': 'https://api.github.com/user/emails',\n",
       " 'emojis_url': 'https://api.github.com/emojis',\n",
       " 'events_url': 'https://api.github.com/events',\n",
       " 'feeds_url': 'https://api.github.com/feeds',\n",
       " 'followers_url': 'https://api.github.com/user/followers',\n",
       " 'following_url': 'https://api.github.com/user/following{/target}',\n",
       " 'gists_url': 'https://api.github.com/gists{/gist_id}',\n",
       " 'hub_url': 'https://api.github.com/hub',\n",
       " 'issue_search_url': 'https://api.github.com/search/issues?q={query}{&page,per_page,sort,order}',\n",
       " 'issues_url': 'https://api.github.com/issues',\n",
       " 'keys_url': 'https://api.github.com/user/keys',\n",
       " 'label_search_url': 'https://api.github.com/search/labels?q={query}&repository_id={repository_id}{&page,per_page}',\n",
       " 'notifications_url': 'https://api.github.com/notifications',\n",
       " 'organization_url': 'https://api.github.com/orgs/{org}',\n",
       " 'organization_repositories_url': 'https://api.github.com/orgs/{org}/repos{?type,page,per_page,sort}',\n",
       " 'organization_teams_url': 'https://api.github.com/orgs/{org}/teams',\n",
       " 'public_gists_url': 'https://api.github.com/gists/public',\n",
       " 'rate_limit_url': 'https://api.github.com/rate_limit',\n",
       " 'repository_url': 'https://api.github.com/repos/{owner}/{repo}',\n",
       " 'repository_search_url': 'https://api.github.com/search/repositories?q={query}{&page,per_page,sort,order}',\n",
       " 'current_user_repositories_url': 'https://api.github.com/user/repos{?type,page,per_page,sort}',\n",
       " 'starred_url': 'https://api.github.com/user/starred{/owner}{/repo}',\n",
       " 'starred_gists_url': 'https://api.github.com/gists/starred',\n",
       " 'topic_search_url': 'https://api.github.com/search/topics?q={query}{&page,per_page}',\n",
       " 'user_url': 'https://api.github.com/users/{user}',\n",
       " 'user_organizations_url': 'https://api.github.com/user/orgs',\n",
       " 'user_repositories_url': 'https://api.github.com/users/{user}/repos{?type,page,per_page,sort}',\n",
       " 'user_search_url': 'https://api.github.com/search/users?q={query}{&page,per_page,sort,order}'}"
      ]
     },
     "execution_count": 10,
     "metadata": {},
     "output_type": "execute_result"
    }
   ],
   "source": [
    "# this is a JSON: we can deserialize it\n",
    "response.json()"
   ]
  },
  {
   "cell_type": "code",
   "execution_count": 11,
   "id": "1fae2759-03c5-4d2a-9bb3-02f082121028",
   "metadata": {},
   "outputs": [],
   "source": [
    "# last but not least, a response contains headers, a sort of metadata of the request\n",
    "#response.headers"
   ]
  },
  {
   "cell_type": "markdown",
   "id": "df257ad7-f948-4e00-8daa-ce7e9cf5b8ac",
   "metadata": {},
   "source": [
    "## GET with query parameters\n",
    "\n",
    "The API has several so called endpoints, e.g. to search for repositories"
   ]
  },
  {
   "cell_type": "code",
   "execution_count": 12,
   "id": "78ed8c13-f74a-4341-8a3f-7b6be3146229",
   "metadata": {},
   "outputs": [],
   "source": [
    "response = requests.get(\n",
    "    'https://api.github.com/search/repositories',\n",
    "    params={'q': 'carpentries'},\n",
    ")\n",
    "\n",
    "json_response = response.json()"
   ]
  },
  {
   "cell_type": "code",
   "execution_count": 13,
   "id": "9258ed25-a454-4cf9-b5aa-e369a16fba09",
   "metadata": {},
   "outputs": [
    {
     "name": "stdout",
     "output_type": "stream",
     "text": [
      "workshop-template\n",
      "The Carpentries Workshop Template\n"
     ]
    }
   ],
   "source": [
    "repository = json_response['items'][0]\n",
    "print(repository[\"name\"])\n",
    "print(repository[\"description\"])"
   ]
  }
 ],
 "metadata": {
  "kernelspec": {
   "display_name": "Python 3 (ipykernel)",
   "language": "python",
   "name": "python3"
  },
  "language_info": {
   "codemirror_mode": {
    "name": "ipython",
    "version": 3
   },
   "file_extension": ".py",
   "mimetype": "text/x-python",
   "name": "python",
   "nbconvert_exporter": "python",
   "pygments_lexer": "ipython3",
   "version": "3.10.11"
  }
 },
 "nbformat": 4,
 "nbformat_minor": 5
}
